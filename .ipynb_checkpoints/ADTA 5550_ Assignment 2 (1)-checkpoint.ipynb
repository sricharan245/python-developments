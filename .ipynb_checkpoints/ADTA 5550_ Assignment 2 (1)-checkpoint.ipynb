{
 "cells": [
  {
   "cell_type": "code",
   "execution_count": 12,
   "id": "49ce088c",
   "metadata": {},
   "outputs": [],
   "source": [
    "import tensorflow as tf\n",
    "\n",
    "import warnings\n",
    "warnings.filterwarnings(\"ignore\")"
   ]
  },
  {
   "cell_type": "code",
   "execution_count": 13,
   "id": "2128f611",
   "metadata": {},
   "outputs": [
    {
     "data": {
      "text/plain": [
       "'1.15.5'"
      ]
     },
     "execution_count": 13,
     "metadata": {},
     "output_type": "execute_result"
    }
   ],
   "source": [
    "tf.__version__"
   ]
  },
  {
   "cell_type": "code",
   "execution_count": 14,
   "id": "09a262f2",
   "metadata": {},
   "outputs": [],
   "source": [
    "# Question 1\n",
    "\n",
    "const15 = tf.constant(15, dtype=tf.int16)\n",
    "const45 = tf.constant(45, dtype=tf.int16)"
   ]
  },
  {
   "cell_type": "code",
   "execution_count": 15,
   "id": "ab436c97",
   "metadata": {},
   "outputs": [
    {
     "name": "stdout",
     "output_type": "stream",
     "text": [
      "60\n"
     ]
    }
   ],
   "source": [
    "with tf.Session() as sess:\n",
    "    res = sess.run(const15 + const45)\n",
    "    print(res)"
   ]
  },
  {
   "cell_type": "code",
   "execution_count": 16,
   "id": "376c7b71",
   "metadata": {},
   "outputs": [],
   "source": [
    "# Question 2\n",
    "\n",
    "a = tf.Variable(2.75)\n",
    "b = tf.Variable(8.5)\n",
    "\n",
    "initializer = tf.global_variables_initializer()"
   ]
  },
  {
   "cell_type": "code",
   "execution_count": 17,
   "id": "734869a3",
   "metadata": {},
   "outputs": [
    {
     "name": "stdout",
     "output_type": "stream",
     "text": [
      "23.375\n"
     ]
    }
   ],
   "source": [
    "with tf.Session() as sess:\n",
    "    sess.run(initializer)\n",
    "    mul = sess.run(a * b )\n",
    "    print(mul)"
   ]
  },
  {
   "cell_type": "code",
   "execution_count": 18,
   "id": "2b487773",
   "metadata": {},
   "outputs": [],
   "source": [
    "# Question 3\n",
    "\n",
    "x = tf.placeholder(tf.float32, None)\n",
    "y = tf.placeholder(tf.float32, None)"
   ]
  },
  {
   "cell_type": "code",
   "execution_count": 19,
   "id": "d7f2e4a6",
   "metadata": {},
   "outputs": [],
   "source": [
    "mult = x * y"
   ]
  },
  {
   "cell_type": "code",
   "execution_count": 20,
   "id": "83dee805",
   "metadata": {},
   "outputs": [
    {
     "name": "stdout",
     "output_type": "stream",
     "text": [
      "66.15\n"
     ]
    }
   ],
   "source": [
    "with tf.Session() as sess:\n",
    "    print (sess.run(mult, feed_dict = {x : 5.25, y: 12.6}))"
   ]
  },
  {
   "cell_type": "code",
   "execution_count": 21,
   "id": "9d2d5582",
   "metadata": {},
   "outputs": [
    {
     "name": "stdout",
     "output_type": "stream",
     "text": [
      "[ 3.  9. 15. 21. 27.]\n"
     ]
    }
   ],
   "source": [
    "# Question 4\n",
    "\n",
    "z = tf.placeholder(tf.float32)\n",
    "mult3 = z * 3\n",
    "\n",
    "with tf.Session() as sess:\n",
    "    print(sess.run(mult3, feed_dict= {z : [1,3,5,7,9]})  )"
   ]
  },
  {
   "cell_type": "code",
   "execution_count": null,
   "id": "bf4d8c9a",
   "metadata": {},
   "outputs": [],
   "source": []
  },
  {
   "cell_type": "code",
   "execution_count": 22,
   "id": "8953f098",
   "metadata": {},
   "outputs": [
    {
     "name": "stdout",
     "output_type": "stream",
     "text": [
      "[[1. 1. 1. 1. 1. 1. 1. 1.]\n",
      " [1. 1. 1. 1. 1. 1. 1. 1.]\n",
      " [1. 1. 1. 1. 1. 1. 1. 1.]\n",
      " [1. 1. 1. 1. 1. 1. 1. 1.]\n",
      " [1. 1. 1. 1. 1. 1. 1. 1.]\n",
      " [1. 1. 1. 1. 1. 1. 1. 1.]\n",
      " [1. 1. 1. 1. 1. 1. 1. 1.]\n",
      " [1. 1. 1. 1. 1. 1. 1. 1.]]\n",
      "[[3.58243217e+01 7.20449219e+01 3.15118179e+01 3.59103889e+01\n",
      "  4.66794243e+01 1.20522702e+00 6.85273666e+01 2.21227245e+01]\n",
      " [4.81053925e+01 3.72999001e+01 5.69248886e+01 8.06652832e+01\n",
      "  8.21165314e+01 3.03659191e+01 9.77787552e+01 7.10522537e+01]\n",
      " [4.58474731e+01 3.82778282e+01 3.61144180e+01 3.56740494e+01\n",
      "  8.91528549e+01 1.47965355e+01 5.86856918e+01 5.90640297e+01]\n",
      " [9.41137085e+01 2.64879799e+01 7.35238495e+01 2.84380131e+01\n",
      "  1.43424053e+01 8.66668167e+01 8.41570969e+01 5.70664940e+01]\n",
      " [8.85556221e+00 6.60535145e+00 6.14742737e+01 2.02945213e+01\n",
      "  8.19980850e+01 1.91792469e+01 4.61447239e-02 7.71542816e+01]\n",
      " [4.13805122e+01 2.82686596e+01 9.55187531e+01 2.68766823e+01\n",
      "  9.37648773e+01 6.80462036e+01 6.12467957e+00 3.34725914e+01]\n",
      " [2.08478909e+01 5.70174103e+01 1.36416788e+01 1.32280989e+01\n",
      "  9.01470108e+01 5.99287796e+00 9.21828747e+00 8.22775497e+01]\n",
      " [9.79317474e+01 6.77117777e+00 1.23871908e+01 4.17548485e+01\n",
      "  5.26226654e+01 9.39166489e+01 7.30179749e+01 8.30095749e+01]]\n",
      "----------------------result -------------------\n",
      "[[36.82432   73.04492   32.511818  36.91039   47.679424   2.205227\n",
      "  69.52737   23.122725 ]\n",
      " [49.105392  38.2999    57.92489   81.66528   83.11653   31.36592\n",
      "  98.778755  72.05225  ]\n",
      " [46.847473  39.27783   37.114418  36.67405   90.152855  15.7965355\n",
      "  59.68569   60.06403  ]\n",
      " [95.11371   27.48798   74.52385   29.438013  15.342405  87.66682\n",
      "  85.1571    58.066494 ]\n",
      " [ 9.855562   7.6053514 62.474274  21.294521  82.998085  20.179247\n",
      "   1.0461447 78.15428  ]\n",
      " [42.380512  29.26866   96.51875   27.876682  94.76488   69.0462\n",
      "   7.1246796 34.47259  ]\n",
      " [21.84789   58.01741   14.641679  14.228099  91.14701    6.992878\n",
      "  10.218287  83.27755  ]\n",
      " [98.93175    7.771178  13.387191  42.75485   53.622665  94.91665\n",
      "  74.017975  84.009575 ]]\n"
     ]
    }
   ],
   "source": [
    "# Question 5\n",
    "\n",
    "\n",
    "cons_mat = tf.constant(1, shape =((8, 8)),  dtype=tf.float32)\n",
    "\n",
    "var_mat = tf.Variable(tf.random.uniform(shape=(8, 8), minval=0, maxval = 99))\n",
    "initializer = tf.global_variables_initializer()\n",
    "\n",
    "\n",
    "with tf.Session() as sess:\n",
    "    sess.run(initializer)\n",
    "    print(sess.run(cons_mat))\n",
    "    print(sess.run(var_mat))\n",
    "    print(\"----------------------result -------------------\")\n",
    "    print (sess.run(cons_mat + var_mat))\n",
    " "
   ]
  },
  {
   "cell_type": "code",
   "execution_count": null,
   "id": "fe6547b0",
   "metadata": {},
   "outputs": [],
   "source": []
  },
  {
   "cell_type": "code",
   "execution_count": null,
   "id": "8410051d",
   "metadata": {},
   "outputs": [],
   "source": []
  },
  {
   "cell_type": "code",
   "execution_count": null,
   "id": "f9b27eb4",
   "metadata": {},
   "outputs": [],
   "source": []
  }
 ],
 "metadata": {
  "kernelspec": {
   "display_name": "Python 3",
   "language": "python",
   "name": "python3"
  },
  "language_info": {
   "codemirror_mode": {
    "name": "ipython",
    "version": 3
   },
   "file_extension": ".py",
   "mimetype": "text/x-python",
   "name": "python",
   "nbconvert_exporter": "python",
   "pygments_lexer": "ipython3",
   "version": "3.7.12"
  }
 },
 "nbformat": 4,
 "nbformat_minor": 5
}
