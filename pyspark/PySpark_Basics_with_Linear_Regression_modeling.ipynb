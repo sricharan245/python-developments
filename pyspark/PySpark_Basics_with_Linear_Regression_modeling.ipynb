{
  "nbformat": 4,
  "nbformat_minor": 0,
  "metadata": {
    "colab": {
      "provenance": []
    },
    "kernelspec": {
      "name": "python3",
      "display_name": "Python 3"
    },
    "language_info": {
      "name": "python"
    }
  },
  "cells": [
    {
      "cell_type": "markdown",
      "source": [
        "## Installing PySpark Library"
      ],
      "metadata": {
        "id": "cAq3ll67vh2l"
      }
    },
    {
      "cell_type": "code",
      "execution_count": 169,
      "metadata": {
        "id": "jkvtzbFTu_bG"
      },
      "outputs": [],
      "source": [
        "# ! pip install  pyspark"
      ]
    },
    {
      "cell_type": "markdown",
      "source": [
        "## Importing required Library"
      ],
      "metadata": {
        "id": "WwcQBuUWvoQ-"
      }
    },
    {
      "cell_type": "code",
      "source": [
        "import pyspark"
      ],
      "metadata": {
        "id": "_xcAXF6mvJcl"
      },
      "execution_count": 170,
      "outputs": []
    },
    {
      "cell_type": "code",
      "source": [
        "from pyspark.sql import SparkSession"
      ],
      "metadata": {
        "id": "1PGxio6fvcFw"
      },
      "execution_count": 171,
      "outputs": []
    },
    {
      "cell_type": "markdown",
      "source": [
        "## Creating PySpark Session"
      ],
      "metadata": {
        "id": "GUSVKD1Uw1Jj"
      }
    },
    {
      "cell_type": "code",
      "source": [
        "spark = SparkSession.builder.appName(\"mysparkapplication\").getOrCreate()\n",
        "spark"
      ],
      "metadata": {
        "colab": {
          "base_uri": "https://localhost:8080/",
          "height": 219
        },
        "id": "3DVoF1hLvudM",
        "outputId": "eeed2784-5f7a-461b-9b93-ed81f11f91bf"
      },
      "execution_count": 172,
      "outputs": [
        {
          "output_type": "execute_result",
          "data": {
            "text/plain": [
              "<pyspark.sql.session.SparkSession at 0x7aa932f274f0>"
            ],
            "text/html": [
              "\n",
              "            <div>\n",
              "                <p><b>SparkSession - in-memory</b></p>\n",
              "                \n",
              "        <div>\n",
              "            <p><b>SparkContext</b></p>\n",
              "\n",
              "            <p><a href=\"http://2996a7d0ec13:4040\">Spark UI</a></p>\n",
              "\n",
              "            <dl>\n",
              "              <dt>Version</dt>\n",
              "                <dd><code>v3.5.0</code></dd>\n",
              "              <dt>Master</dt>\n",
              "                <dd><code>local[*]</code></dd>\n",
              "              <dt>AppName</dt>\n",
              "                <dd><code>mysparkapplication</code></dd>\n",
              "            </dl>\n",
              "        </div>\n",
              "        \n",
              "            </div>\n",
              "        "
            ]
          },
          "metadata": {},
          "execution_count": 172
        }
      ]
    },
    {
      "cell_type": "markdown",
      "source": [
        "## Loading the dataset"
      ],
      "metadata": {
        "id": "FTiwPHlYw5YZ"
      }
    },
    {
      "cell_type": "code",
      "source": [
        "#df = spark.read.csv(\"Mall_Customers.csv\")\n",
        "df = spark.read.option('header', 'true').csv(\"Mall_Customers.csv\", inferSchema = True)"
      ],
      "metadata": {
        "id": "596_oekEwDAo"
      },
      "execution_count": 173,
      "outputs": []
    },
    {
      "cell_type": "markdown",
      "source": [
        "## Peeking into spark dataframe"
      ],
      "metadata": {
        "id": "AZ5pymgXwuAz"
      }
    },
    {
      "cell_type": "code",
      "source": [
        "print (df.head(2))\n",
        "df.show(5)\n",
        "df.printSchema()"
      ],
      "metadata": {
        "colab": {
          "base_uri": "https://localhost:8080/"
        },
        "id": "mfcn_ODdwTCp",
        "outputId": "2f809e38-d0b4-4dc5-e432-1ee568c79305"
      },
      "execution_count": 174,
      "outputs": [
        {
          "output_type": "stream",
          "name": "stdout",
          "text": [
            "[Row(CustomerID=1, Genre='Male', Age=19, Annual Income (k$)=15, Spending Score (1-100)=39), Row(CustomerID=2, Genre='Male', Age=21, Annual Income (k$)=15, Spending Score (1-100)=81)]\n",
            "+----------+------+---+------------------+----------------------+\n",
            "|CustomerID| Genre|Age|Annual Income (k$)|Spending Score (1-100)|\n",
            "+----------+------+---+------------------+----------------------+\n",
            "|         1|  Male| 19|                15|                    39|\n",
            "|         2|  Male| 21|                15|                    81|\n",
            "|         3|Female| 20|                16|                     6|\n",
            "|         4|Female| 23|                16|                    77|\n",
            "|         5|Female| 31|                17|                    40|\n",
            "+----------+------+---+------------------+----------------------+\n",
            "only showing top 5 rows\n",
            "\n",
            "root\n",
            " |-- CustomerID: integer (nullable = true)\n",
            " |-- Genre: string (nullable = true)\n",
            " |-- Age: integer (nullable = true)\n",
            " |-- Annual Income (k$): integer (nullable = true)\n",
            " |-- Spending Score (1-100): integer (nullable = true)\n",
            "\n"
          ]
        }
      ]
    },
    {
      "cell_type": "code",
      "source": [
        "print (df.count())\n",
        "print(df.columns)\n",
        "print (df.dtypes)\n",
        "(df.describe().show())"
      ],
      "metadata": {
        "colab": {
          "base_uri": "https://localhost:8080/"
        },
        "id": "W7-2MezVwY4g",
        "outputId": "fdede766-834b-4c6c-b0f5-a40afcae8341"
      },
      "execution_count": 175,
      "outputs": [
        {
          "output_type": "stream",
          "name": "stdout",
          "text": [
            "200\n",
            "['CustomerID', 'Genre', 'Age', 'Annual Income (k$)', 'Spending Score (1-100)']\n",
            "[('CustomerID', 'int'), ('Genre', 'string'), ('Age', 'int'), ('Annual Income (k$)', 'int'), ('Spending Score (1-100)', 'int')]\n",
            "+-------+------------------+------+-----------------+------------------+----------------------+\n",
            "|summary|        CustomerID| Genre|              Age|Annual Income (k$)|Spending Score (1-100)|\n",
            "+-------+------------------+------+-----------------+------------------+----------------------+\n",
            "|  count|               200|   200|              200|               200|                   200|\n",
            "|   mean|             100.5|  NULL|            38.85|             60.56|                  50.2|\n",
            "| stddev|57.879184513951124|  NULL|13.96900733155888| 26.26472116527124|    25.823521668370173|\n",
            "|    min|                 1|Female|               18|                15|                     1|\n",
            "|    max|               200|  Male|               70|               137|                    99|\n",
            "+-------+------------------+------+-----------------+------------------+----------------------+\n",
            "\n"
          ]
        }
      ]
    },
    {
      "cell_type": "markdown",
      "source": [
        "## Handling data in dataframe"
      ],
      "metadata": {
        "id": "VGQBH1AiybMD"
      }
    },
    {
      "cell_type": "code",
      "source": [
        "df.select([\"Genre\", \"Age\", \"Annual Income (k$)\"]).show(4)"
      ],
      "metadata": {
        "colab": {
          "base_uri": "https://localhost:8080/"
        },
        "id": "dKUj79LvxHc0",
        "outputId": "e1516866-bb1a-47d5-c4e9-a354bf2f920e"
      },
      "execution_count": 176,
      "outputs": [
        {
          "output_type": "stream",
          "name": "stdout",
          "text": [
            "+------+---+------------------+\n",
            "| Genre|Age|Annual Income (k$)|\n",
            "+------+---+------------------+\n",
            "|  Male| 19|                15|\n",
            "|  Male| 21|                15|\n",
            "|Female| 20|                16|\n",
            "|Female| 23|                16|\n",
            "+------+---+------------------+\n",
            "only showing top 4 rows\n",
            "\n"
          ]
        }
      ]
    },
    {
      "cell_type": "code",
      "source": [
        "## Adding column\n",
        "\n",
        "df2 = df.withColumn(\"Spending score (1-10)\", df[\"Spending Score (1-100)\"]/10)"
      ],
      "metadata": {
        "id": "-MeTYZO-yEbA"
      },
      "execution_count": 177,
      "outputs": []
    },
    {
      "cell_type": "code",
      "source": [
        "## Renaming column\n",
        "df2 = df2.withColumnRenamed(\"Spending score (1-10)\", \"New Spending Score\")"
      ],
      "metadata": {
        "id": "Km93LOumzM5j"
      },
      "execution_count": 178,
      "outputs": []
    },
    {
      "cell_type": "code",
      "source": [
        "## Dropping column\n",
        "\n",
        "df2 = df2.drop(\"New Spending Score\")"
      ],
      "metadata": {
        "id": "pskyA7iHzZBl"
      },
      "execution_count": 179,
      "outputs": []
    },
    {
      "cell_type": "code",
      "source": [
        "df2.show()"
      ],
      "metadata": {
        "colab": {
          "base_uri": "https://localhost:8080/"
        },
        "id": "WiLRQ7zFzjJp",
        "outputId": "1bad5818-79a2-467a-d239-a14c5bcabf09"
      },
      "execution_count": 180,
      "outputs": [
        {
          "output_type": "stream",
          "name": "stdout",
          "text": [
            "+----------+------+---+------------------+----------------------+\n",
            "|CustomerID| Genre|Age|Annual Income (k$)|Spending Score (1-100)|\n",
            "+----------+------+---+------------------+----------------------+\n",
            "|         1|  Male| 19|                15|                    39|\n",
            "|         2|  Male| 21|                15|                    81|\n",
            "|         3|Female| 20|                16|                     6|\n",
            "|         4|Female| 23|                16|                    77|\n",
            "|         5|Female| 31|                17|                    40|\n",
            "|         6|Female| 22|                17|                    76|\n",
            "|         7|Female| 35|                18|                     6|\n",
            "|         8|Female| 23|                18|                    94|\n",
            "|         9|  Male| 64|                19|                     3|\n",
            "|        10|Female| 30|                19|                    72|\n",
            "|        11|  Male| 67|                19|                    14|\n",
            "|        12|Female| 35|                19|                    99|\n",
            "|        13|Female| 58|                20|                    15|\n",
            "|        14|Female| 24|                20|                    77|\n",
            "|        15|  Male| 37|                20|                    13|\n",
            "|        16|  Male| 22|                20|                    79|\n",
            "|        17|Female| 35|                21|                    35|\n",
            "|        18|  Male| 20|                21|                    66|\n",
            "|        19|  Male| 52|                23|                    29|\n",
            "|        20|Female| 35|                23|                    98|\n",
            "+----------+------+---+------------------+----------------------+\n",
            "only showing top 20 rows\n",
            "\n"
          ]
        }
      ]
    },
    {
      "cell_type": "code",
      "source": [
        "df = df.withColumnRenamed(\"Annual Income (k$)\" ,\"Annual_Income\")\n",
        "df = df.withColumnRenamed(\"Spending Score (1-100)\" ,\"Spending_Score\")\n",
        "df = df.withColumnRenamed (\"Genre\", \"gender\")\n",
        "df.show()"
      ],
      "metadata": {
        "colab": {
          "base_uri": "https://localhost:8080/"
        },
        "id": "Mp3BGe1O8hJS",
        "outputId": "9cf85b9d-6cb7-4295-9133-2983b28f752d"
      },
      "execution_count": 181,
      "outputs": [
        {
          "output_type": "stream",
          "name": "stdout",
          "text": [
            "+----------+------+---+-------------+--------------+\n",
            "|CustomerID|gender|Age|Annual_Income|Spending_Score|\n",
            "+----------+------+---+-------------+--------------+\n",
            "|         1|  Male| 19|           15|            39|\n",
            "|         2|  Male| 21|           15|            81|\n",
            "|         3|Female| 20|           16|             6|\n",
            "|         4|Female| 23|           16|            77|\n",
            "|         5|Female| 31|           17|            40|\n",
            "|         6|Female| 22|           17|            76|\n",
            "|         7|Female| 35|           18|             6|\n",
            "|         8|Female| 23|           18|            94|\n",
            "|         9|  Male| 64|           19|             3|\n",
            "|        10|Female| 30|           19|            72|\n",
            "|        11|  Male| 67|           19|            14|\n",
            "|        12|Female| 35|           19|            99|\n",
            "|        13|Female| 58|           20|            15|\n",
            "|        14|Female| 24|           20|            77|\n",
            "|        15|  Male| 37|           20|            13|\n",
            "|        16|  Male| 22|           20|            79|\n",
            "|        17|Female| 35|           21|            35|\n",
            "|        18|  Male| 20|           21|            66|\n",
            "|        19|  Male| 52|           23|            29|\n",
            "|        20|Female| 35|           23|            98|\n",
            "+----------+------+---+-------------+--------------+\n",
            "only showing top 20 rows\n",
            "\n"
          ]
        }
      ]
    },
    {
      "cell_type": "markdown",
      "source": [
        "## Handling nulls"
      ],
      "metadata": {
        "id": "me04rlot63CU"
      }
    },
    {
      "cell_type": "code",
      "source": [
        "from pyspark.sql.functions import isnan, when, count, col\n",
        "\n",
        "df.select([count(when(isnan(c), c)).alias(c) for c in df.columns]).show()"
      ],
      "metadata": {
        "colab": {
          "base_uri": "https://localhost:8080/"
        },
        "id": "q7dFG6O9zmJN",
        "outputId": "30377155-5678-435c-fd26-bff3e5cf4205"
      },
      "execution_count": 182,
      "outputs": [
        {
          "output_type": "stream",
          "name": "stdout",
          "text": [
            "+----------+------+---+-------------+--------------+\n",
            "|CustomerID|gender|Age|Annual_Income|Spending_Score|\n",
            "+----------+------+---+-------------+--------------+\n",
            "|         0|     0|  0|            0|             0|\n",
            "+----------+------+---+-------------+--------------+\n",
            "\n"
          ]
        }
      ]
    },
    {
      "cell_type": "code",
      "source": [
        "## imputing zeros(0) at nulls\n",
        "\n",
        "df =  df.na.fill(0)"
      ],
      "metadata": {
        "id": "jR0xYman61jO"
      },
      "execution_count": 183,
      "outputs": []
    },
    {
      "cell_type": "code",
      "source": [
        "## imputing mean value of the cols at nulls\n",
        "\n",
        "# from pyspark.ml.feature import Imputer\n",
        "# imputer = Imputer (inputCols=['CustomerID', 'Age', 'Annual_Income', 'Spending_Score'],\n",
        "#                    outputCols= [\"{}_imputed\".format(c) for c in ['CustomerID', 'Age', 'Annual_Income', 'Spending_Score']]).setStrategy(\"mean\")\n",
        "\n",
        "# df = imputer.fit(df).transform(df)"
      ],
      "metadata": {
        "id": "L33sqEN569Ef"
      },
      "execution_count": 184,
      "outputs": []
    },
    {
      "cell_type": "markdown",
      "source": [
        "## Filtering Methods"
      ],
      "metadata": {
        "id": "4fKiIUxC8aDT"
      }
    },
    {
      "cell_type": "code",
      "source": [
        "df.filter(\"Annual_Income>120\").show()"
      ],
      "metadata": {
        "colab": {
          "base_uri": "https://localhost:8080/"
        },
        "id": "fN6d1bTE74mG",
        "outputId": "b02a1e8f-fda4-4493-c874-6b284c00f0ce"
      },
      "execution_count": 185,
      "outputs": [
        {
          "output_type": "stream",
          "name": "stdout",
          "text": [
            "+----------+------+---+-------------+--------------+\n",
            "|CustomerID|gender|Age|Annual_Income|Spending_Score|\n",
            "+----------+------+---+-------------+--------------+\n",
            "|       197|Female| 45|          126|            28|\n",
            "|       198|  Male| 32|          126|            74|\n",
            "|       199|  Male| 32|          137|            18|\n",
            "|       200|  Male| 30|          137|            83|\n",
            "+----------+------+---+-------------+--------------+\n",
            "\n"
          ]
        }
      ]
    },
    {
      "cell_type": "markdown",
      "source": [
        "## Data Aggregation"
      ],
      "metadata": {
        "id": "qQddpNDOqr3I"
      }
    },
    {
      "cell_type": "code",
      "source": [
        "df.groupby(\"gender\").count().show()\n",
        "df.groupby(\"gender\").sum(\"Annual_Income\" ).show()\n",
        "df.groupby(\"gender\").mean(\"Annual_Income\").show()"
      ],
      "metadata": {
        "colab": {
          "base_uri": "https://localhost:8080/"
        },
        "id": "j_hPCrZeqBLH",
        "outputId": "878417aa-5f4d-45d1-d5f1-fc91e06fa069"
      },
      "execution_count": 186,
      "outputs": [
        {
          "output_type": "stream",
          "name": "stdout",
          "text": [
            "+------+-----+\n",
            "|gender|count|\n",
            "+------+-----+\n",
            "|Female|  112|\n",
            "|  Male|   88|\n",
            "+------+-----+\n",
            "\n",
            "+------+------------------+\n",
            "|gender|sum(Annual_Income)|\n",
            "+------+------------------+\n",
            "|Female|              6636|\n",
            "|  Male|              5476|\n",
            "+------+------------------+\n",
            "\n",
            "+------+------------------+\n",
            "|gender|avg(Annual_Income)|\n",
            "+------+------------------+\n",
            "|Female|             59.25|\n",
            "|  Male| 62.22727272727273|\n",
            "+------+------------------+\n",
            "\n"
          ]
        }
      ]
    },
    {
      "cell_type": "markdown",
      "source": [
        "## Preprocessing"
      ],
      "metadata": {
        "id": "CAVxXJSFpqgs"
      }
    },
    {
      "cell_type": "code",
      "source": [
        "from pyspark.ml.feature import VectorAssembler, StringIndexer\n",
        "\n",
        "genderLabeler = StringIndexer(inputCol=\"gender\", outputCol=\"gender_labeled\", )\n",
        "df = genderLabeler.fit(df).transform(df)\n",
        "df.show()"
      ],
      "metadata": {
        "colab": {
          "base_uri": "https://localhost:8080/"
        },
        "id": "rnclv8lQiM-T",
        "outputId": "591101b0-c93b-4094-f106-3bb071aaceee"
      },
      "execution_count": 187,
      "outputs": [
        {
          "output_type": "stream",
          "name": "stdout",
          "text": [
            "+----------+------+---+-------------+--------------+--------------+\n",
            "|CustomerID|gender|Age|Annual_Income|Spending_Score|gender_labeled|\n",
            "+----------+------+---+-------------+--------------+--------------+\n",
            "|         1|  Male| 19|           15|            39|           1.0|\n",
            "|         2|  Male| 21|           15|            81|           1.0|\n",
            "|         3|Female| 20|           16|             6|           0.0|\n",
            "|         4|Female| 23|           16|            77|           0.0|\n",
            "|         5|Female| 31|           17|            40|           0.0|\n",
            "|         6|Female| 22|           17|            76|           0.0|\n",
            "|         7|Female| 35|           18|             6|           0.0|\n",
            "|         8|Female| 23|           18|            94|           0.0|\n",
            "|         9|  Male| 64|           19|             3|           1.0|\n",
            "|        10|Female| 30|           19|            72|           0.0|\n",
            "|        11|  Male| 67|           19|            14|           1.0|\n",
            "|        12|Female| 35|           19|            99|           0.0|\n",
            "|        13|Female| 58|           20|            15|           0.0|\n",
            "|        14|Female| 24|           20|            77|           0.0|\n",
            "|        15|  Male| 37|           20|            13|           1.0|\n",
            "|        16|  Male| 22|           20|            79|           1.0|\n",
            "|        17|Female| 35|           21|            35|           0.0|\n",
            "|        18|  Male| 20|           21|            66|           1.0|\n",
            "|        19|  Male| 52|           23|            29|           1.0|\n",
            "|        20|Female| 35|           23|            98|           0.0|\n",
            "+----------+------+---+-------------+--------------+--------------+\n",
            "only showing top 20 rows\n",
            "\n"
          ]
        }
      ]
    },
    {
      "cell_type": "code",
      "source": [
        "df.dtypes"
      ],
      "metadata": {
        "colab": {
          "base_uri": "https://localhost:8080/"
        },
        "id": "NEWuMe6mjnXX",
        "outputId": "e0bf2e36-d839-4560-9db1-915b51e40666"
      },
      "execution_count": 188,
      "outputs": [
        {
          "output_type": "execute_result",
          "data": {
            "text/plain": [
              "[('CustomerID', 'int'),\n",
              " ('gender', 'string'),\n",
              " ('Age', 'int'),\n",
              " ('Annual_Income', 'int'),\n",
              " ('Spending_Score', 'int'),\n",
              " ('gender_labeled', 'double')]"
            ]
          },
          "metadata": {},
          "execution_count": 188
        }
      ]
    },
    {
      "cell_type": "code",
      "source": [
        "vectAssem = VectorAssembler(inputCols=[\"gender_labeled\",\"Age\",\"Annual_Income\"], outputCol=\"pred_variables\", handleInvalid='keep')\n",
        "df = vectAssem.transform(df)\n",
        "df.show()"
      ],
      "metadata": {
        "colab": {
          "base_uri": "https://localhost:8080/"
        },
        "id": "W9MhLN208WuA",
        "outputId": "c12f24ce-8023-40db-caa6-c016b335fd40"
      },
      "execution_count": 189,
      "outputs": [
        {
          "output_type": "stream",
          "name": "stdout",
          "text": [
            "+----------+------+---+-------------+--------------+--------------+---------------+\n",
            "|CustomerID|gender|Age|Annual_Income|Spending_Score|gender_labeled| pred_variables|\n",
            "+----------+------+---+-------------+--------------+--------------+---------------+\n",
            "|         1|  Male| 19|           15|            39|           1.0|[1.0,19.0,15.0]|\n",
            "|         2|  Male| 21|           15|            81|           1.0|[1.0,21.0,15.0]|\n",
            "|         3|Female| 20|           16|             6|           0.0|[0.0,20.0,16.0]|\n",
            "|         4|Female| 23|           16|            77|           0.0|[0.0,23.0,16.0]|\n",
            "|         5|Female| 31|           17|            40|           0.0|[0.0,31.0,17.0]|\n",
            "|         6|Female| 22|           17|            76|           0.0|[0.0,22.0,17.0]|\n",
            "|         7|Female| 35|           18|             6|           0.0|[0.0,35.0,18.0]|\n",
            "|         8|Female| 23|           18|            94|           0.0|[0.0,23.0,18.0]|\n",
            "|         9|  Male| 64|           19|             3|           1.0|[1.0,64.0,19.0]|\n",
            "|        10|Female| 30|           19|            72|           0.0|[0.0,30.0,19.0]|\n",
            "|        11|  Male| 67|           19|            14|           1.0|[1.0,67.0,19.0]|\n",
            "|        12|Female| 35|           19|            99|           0.0|[0.0,35.0,19.0]|\n",
            "|        13|Female| 58|           20|            15|           0.0|[0.0,58.0,20.0]|\n",
            "|        14|Female| 24|           20|            77|           0.0|[0.0,24.0,20.0]|\n",
            "|        15|  Male| 37|           20|            13|           1.0|[1.0,37.0,20.0]|\n",
            "|        16|  Male| 22|           20|            79|           1.0|[1.0,22.0,20.0]|\n",
            "|        17|Female| 35|           21|            35|           0.0|[0.0,35.0,21.0]|\n",
            "|        18|  Male| 20|           21|            66|           1.0|[1.0,20.0,21.0]|\n",
            "|        19|  Male| 52|           23|            29|           1.0|[1.0,52.0,23.0]|\n",
            "|        20|Female| 35|           23|            98|           0.0|[0.0,35.0,23.0]|\n",
            "+----------+------+---+-------------+--------------+--------------+---------------+\n",
            "only showing top 20 rows\n",
            "\n"
          ]
        }
      ]
    },
    {
      "cell_type": "code",
      "source": [
        "df_to_model = df.select([\"Spending_Score\", \"pred_variables\"])\n",
        "df_to_model.show(10)"
      ],
      "metadata": {
        "colab": {
          "base_uri": "https://localhost:8080/"
        },
        "id": "mNniQeM-gcIl",
        "outputId": "051c910f-4ed4-41d4-b0b1-6f929fe5fa1c"
      },
      "execution_count": 190,
      "outputs": [
        {
          "output_type": "stream",
          "name": "stdout",
          "text": [
            "+--------------+---------------+\n",
            "|Spending_Score| pred_variables|\n",
            "+--------------+---------------+\n",
            "|            39|[1.0,19.0,15.0]|\n",
            "|            81|[1.0,21.0,15.0]|\n",
            "|             6|[0.0,20.0,16.0]|\n",
            "|            77|[0.0,23.0,16.0]|\n",
            "|            40|[0.0,31.0,17.0]|\n",
            "|            76|[0.0,22.0,17.0]|\n",
            "|             6|[0.0,35.0,18.0]|\n",
            "|            94|[0.0,23.0,18.0]|\n",
            "|             3|[1.0,64.0,19.0]|\n",
            "|            72|[0.0,30.0,19.0]|\n",
            "+--------------+---------------+\n",
            "only showing top 10 rows\n",
            "\n"
          ]
        }
      ]
    },
    {
      "cell_type": "markdown",
      "source": [
        "## Predictive Modeling"
      ],
      "metadata": {
        "id": "uL6ljgX9ptU1"
      }
    },
    {
      "cell_type": "code",
      "source": [
        "from pyspark.ml.regression import LinearRegression, LinearRegressionSummary\n",
        "\n",
        "train_data, test_data = df_to_model.randomSplit([0.8, 0.2], seed=7)\n",
        "\n",
        "lr_model = LinearRegression( featuresCol= \"pred_variables\"  , labelCol=\"Spending_Score\")\n",
        "\n",
        "lr_model = lr_model.fit(train_data)"
      ],
      "metadata": {
        "id": "3N4ZCwgZj--V"
      },
      "execution_count": 191,
      "outputs": []
    },
    {
      "cell_type": "code",
      "source": [
        "print (\"intercept: \", lr_model.intercept)\n",
        "print(\"coefficients: \", lr_model.coefficients)\n"
      ],
      "metadata": {
        "colab": {
          "base_uri": "https://localhost:8080/"
        },
        "id": "iup9ReVjlkuv",
        "outputId": "c66285bb-d24f-4df8-d127-d1e830993fae"
      },
      "execution_count": 192,
      "outputs": [
        {
          "output_type": "stream",
          "name": "stdout",
          "text": [
            "intercept:  81.79525361561433\n",
            "coefficients:  [-3.8707080628006554,-0.6432091345345733,-0.04948032810108157]\n"
          ]
        }
      ]
    },
    {
      "cell_type": "markdown",
      "source": [
        "## Testing the model"
      ],
      "metadata": {
        "id": "1-dDL-yupzc3"
      }
    },
    {
      "cell_type": "code",
      "source": [
        "pred = lr_model.evaluate(test_data)\n",
        "pred.predictions.show(), pred.residuals.show()"
      ],
      "metadata": {
        "colab": {
          "base_uri": "https://localhost:8080/"
        },
        "id": "EuQxBYJ0mDkc",
        "outputId": "2a2dd1dd-74fd-45e8-bc13-19b4b0a23831"
      },
      "execution_count": 193,
      "outputs": [
        {
          "output_type": "stream",
          "name": "stdout",
          "text": [
            "+--------------+----------------+------------------+\n",
            "|Spending_Score|  pred_variables|        prediction|\n",
            "+--------------+----------------+------------------+\n",
            "|             5| [0.0,46.0,25.0]|50.970625224496914|\n",
            "|             5| [1.0,19.0,81.0]| 61.69566542046917|\n",
            "|             6| [0.0,20.0,16.0]| 68.13938567530556|\n",
            "|             6| [0.0,35.0,18.0]| 58.39228800108479|\n",
            "|            10| [1.0,19.0,74.0]|62.042027717176744|\n",
            "|            11| [1.0,59.0,71.0]| 36.46210332009706|\n",
            "|            13| [0.0,52.0,88.0]| 43.99410974692134|\n",
            "|            14| [0.0,49.0,33.0]|48.645155196084545|\n",
            "|            14| [1.0,59.0,93.0]| 35.37353610187326|\n",
            "|            14| [1.0,67.0,19.0]| 33.88940730507671|\n",
            "|            16|[0.0,47.0,120.0]|  45.6267849203596|\n",
            "|            28| [0.0,49.0,39.0]| 48.34827322747805|\n",
            "|            29| [1.0,52.0,23.0]|43.339623010690985|\n",
            "|            31| [0.0,40.0,29.0]| 54.63195871930003|\n",
            "|            34| [0.0,25.0,72.0]| 62.15244162897213|\n",
            "|            41| [1.0,18.0,59.0]| 63.42744177322754|\n",
            "|            42| [0.0,29.0,40.0]| 61.16297559006844|\n",
            "|            42| [0.0,31.0,40.0]|  59.8765573209993|\n",
            "|            42| [0.0,32.0,60.0]| 58.24374162444309|\n",
            "|            42| [0.0,47.0,49.0]| 49.13988821553639|\n",
            "+--------------+----------------+------------------+\n",
            "only showing top 20 rows\n",
            "\n",
            "+-------------------+\n",
            "|          residuals|\n",
            "+-------------------+\n",
            "|-45.970625224496914|\n",
            "| -56.69566542046917|\n",
            "| -62.13938567530556|\n",
            "| -52.39228800108479|\n",
            "|-52.042027717176744|\n",
            "|-25.462103320097057|\n",
            "| -30.99410974692134|\n",
            "|-34.645155196084545|\n",
            "|-21.373536101873263|\n",
            "| -19.88940730507671|\n",
            "|-29.626784920359597|\n",
            "|-20.348273227478053|\n",
            "|-14.339623010690985|\n",
            "| -23.63195871930003|\n",
            "|-28.152441628972127|\n",
            "|-22.427441773227542|\n",
            "| -19.16297559006844|\n",
            "|-17.876557320999297|\n",
            "| -16.24374162444309|\n",
            "| -7.139888215536388|\n",
            "+-------------------+\n",
            "only showing top 20 rows\n",
            "\n"
          ]
        },
        {
          "output_type": "execute_result",
          "data": {
            "text/plain": [
              "(None, None)"
            ]
          },
          "metadata": {},
          "execution_count": 193
        }
      ]
    },
    {
      "cell_type": "markdown",
      "source": [
        "## Evaluation of Model"
      ],
      "metadata": {
        "id": "bgGYKdimpmrQ"
      }
    },
    {
      "cell_type": "code",
      "source": [
        "print (\"Evaluation of Model\")\n",
        "print (\"----------\")\n",
        "print(\"R2 Score: \", pred.r2)\n",
        "print (\"degree of freedom: \", pred.degreesOfFreedom)\n",
        "print (\"explainedVariance: \", pred.explainedVariance)\n",
        "\n",
        "print (\"----------\")\n",
        "print (\"MAE: \", pred.meanAbsoluteError)\n",
        "print (\"MSE: \", pred.meanSquaredError)\n",
        "print(\"RMSE: \", pred.rootMeanSquaredError)\n"
      ],
      "metadata": {
        "colab": {
          "base_uri": "https://localhost:8080/"
        },
        "id": "UifC7rEGmKx2",
        "outputId": "f1bb7001-264e-4753-ef35-870abffe5c5f"
      },
      "execution_count": 194,
      "outputs": [
        {
          "output_type": "stream",
          "name": "stdout",
          "text": [
            "Evaluation of Model\n",
            "----------\n",
            "R2 Score:  -0.16859795699986435\n",
            "degree of freedom:  37\n",
            "explainedVariance:  174.60341209510239\n",
            "----------\n",
            "MAE:  21.52354927774421\n",
            "MSE:  707.9673693164307\n",
            "RMSE:  26.607656216142576\n"
          ]
        }
      ]
    },
    {
      "cell_type": "markdown",
      "source": [
        "## Conclusion\n",
        "\n",
        "### we can see the prediction results of model.\n",
        "- *R2 score is -16%*\n",
        "- *explained Variance is 174.6*\n",
        "- *Mean Absolute Error is 21.52*\n",
        "- *Mean Squared Error is 707.96*\n",
        "\n",
        "## **The model is not so good to predict spending pattern of the mall customers. We might need to tune this model to get reasonable predictions.**"
      ],
      "metadata": {
        "id": "qnFbXR9Bq0LJ"
      }
    },
    {
      "cell_type": "code",
      "source": [],
      "metadata": {
        "id": "g2Rh0nZJrqbT"
      },
      "execution_count": 194,
      "outputs": []
    }
  ]
}